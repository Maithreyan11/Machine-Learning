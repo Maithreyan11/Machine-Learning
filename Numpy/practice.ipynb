{
 "metadata": {
  "language_info": {
   "codemirror_mode": {
    "name": "ipython",
    "version": 3
   },
   "file_extension": ".py",
   "mimetype": "text/x-python",
   "name": "python",
   "nbconvert_exporter": "python",
   "pygments_lexer": "ipython3",
   "version": "3.7.6-final"
  },
  "orig_nbformat": 2,
  "kernelspec": {
   "name": "python3",
   "display_name": "Python 3",
   "language": "python"
  }
 },
 "nbformat": 4,
 "nbformat_minor": 2,
 "cells": [
  {
   "cell_type": "code",
   "execution_count": 2,
   "metadata": {},
   "outputs": [],
   "source": [
    "import numpy as np"
   ]
  },
  {
   "cell_type": "code",
   "execution_count": 3,
   "metadata": {},
   "outputs": [
    {
     "output_type": "stream",
     "name": "stdout",
     "text": [
      "1.18.1\nblas_mkl_info:\n    libraries = ['mkl_rt']\n    library_dirs = ['C:/ProgramData/Anaconda3\\\\Library\\\\lib']\n    define_macros = [('SCIPY_MKL_H', None), ('HAVE_CBLAS', None)]\n    include_dirs = ['C:\\\\Program Files (x86)\\\\IntelSWTools\\\\compilers_and_libraries_2019.0.117\\\\windows\\\\mkl', 'C:\\\\Program Files (x86)\\\\IntelSWTools\\\\compilers_and_libraries_2019.0.117\\\\windows\\\\mkl\\\\include', 'C:\\\\Program Files (x86)\\\\IntelSWTools\\\\compilers_and_libraries_2019.0.117\\\\windows\\\\mkl\\\\lib', 'C:/ProgramData/Anaconda3\\\\Library\\\\include']\nblas_opt_info:\n    libraries = ['mkl_rt']\n    library_dirs = ['C:/ProgramData/Anaconda3\\\\Library\\\\lib']\n    define_macros = [('SCIPY_MKL_H', None), ('HAVE_CBLAS', None)]\n    include_dirs = ['C:\\\\Program Files (x86)\\\\IntelSWTools\\\\compilers_and_libraries_2019.0.117\\\\windows\\\\mkl', 'C:\\\\Program Files (x86)\\\\IntelSWTools\\\\compilers_and_libraries_2019.0.117\\\\windows\\\\mkl\\\\include', 'C:\\\\Program Files (x86)\\\\IntelSWTools\\\\compilers_and_libraries_2019.0.117\\\\windows\\\\mkl\\\\lib', 'C:/ProgramData/Anaconda3\\\\Library\\\\include']\nlapack_mkl_info:\n    libraries = ['mkl_rt']\n    library_dirs = ['C:/ProgramData/Anaconda3\\\\Library\\\\lib']\n    define_macros = [('SCIPY_MKL_H', None), ('HAVE_CBLAS', None)]\n    include_dirs = ['C:\\\\Program Files (x86)\\\\IntelSWTools\\\\compilers_and_libraries_2019.0.117\\\\windows\\\\mkl', 'C:\\\\Program Files (x86)\\\\IntelSWTools\\\\compilers_and_libraries_2019.0.117\\\\windows\\\\mkl\\\\include', 'C:\\\\Program Files (x86)\\\\IntelSWTools\\\\compilers_and_libraries_2019.0.117\\\\windows\\\\mkl\\\\lib', 'C:/ProgramData/Anaconda3\\\\Library\\\\include']\nlapack_opt_info:\n    libraries = ['mkl_rt']\n    library_dirs = ['C:/ProgramData/Anaconda3\\\\Library\\\\lib']\n    define_macros = [('SCIPY_MKL_H', None), ('HAVE_CBLAS', None)]\n    include_dirs = ['C:\\\\Program Files (x86)\\\\IntelSWTools\\\\compilers_and_libraries_2019.0.117\\\\windows\\\\mkl', 'C:\\\\Program Files (x86)\\\\IntelSWTools\\\\compilers_and_libraries_2019.0.117\\\\windows\\\\mkl\\\\include', 'C:\\\\Program Files (x86)\\\\IntelSWTools\\\\compilers_and_libraries_2019.0.117\\\\windows\\\\mkl\\\\lib', 'C:/ProgramData/Anaconda3\\\\Library\\\\include']\n"
     ]
    }
   ],
   "source": [
    "print(np.__version__)\n",
    "np.show_config()"
   ]
  },
  {
   "cell_type": "code",
   "execution_count": 4,
   "metadata": {},
   "outputs": [
    {
     "output_type": "stream",
     "name": "stdout",
     "text": [
      "[0. 0. 0. 0. 0. 0. 0. 0. 0. 0.]\n"
     ]
    }
   ],
   "source": [
    "A=np.zeros(10)\n",
    "print(A)"
   ]
  },
  {
   "source": [
    "python -c \"import numpy; numpy.info(numpy.add)\"\n",
    "\n",
    "Type this in terminal"
   ],
   "cell_type": "markdown",
   "metadata": {}
  },
  {
   "cell_type": "code",
   "execution_count": 5,
   "metadata": {},
   "outputs": [
    {
     "output_type": "stream",
     "name": "stdout",
     "text": [
      "[0. 0. 0. 0. 1. 0. 0. 0. 0. 0.]\n"
     ]
    }
   ],
   "source": [
    "B=np.zeros(10)\n",
    "B[4]=1\n",
    "print(B)"
   ]
  },
  {
   "cell_type": "code",
   "execution_count": 6,
   "metadata": {},
   "outputs": [],
   "source": [
    "C=np.arange(10,50)"
   ]
  },
  {
   "cell_type": "code",
   "execution_count": 7,
   "metadata": {},
   "outputs": [
    {
     "output_type": "stream",
     "name": "stdout",
     "text": [
      "[10 11 12 13 14 15 16 17 18 19 20 21 22 23 24 25 26 27 28 29 30 31 32 33\n 34 35 36 37 38 39 40 41 42 43 44 45 46 47 48 49]\n"
     ]
    }
   ],
   "source": [
    "print(C)"
   ]
  },
  {
   "cell_type": "code",
   "execution_count": 8,
   "metadata": {},
   "outputs": [
    {
     "output_type": "execute_result",
     "data": {
      "text/plain": [
       "array([9, 8, 7, 6, 5, 4, 3, 2, 1, 0])"
      ]
     },
     "metadata": {},
     "execution_count": 8
    }
   ],
   "source": [
    "A=np.arange(10)\n",
    "A[::-1]"
   ]
  },
  {
   "cell_type": "code",
   "execution_count": 9,
   "metadata": {},
   "outputs": [
    {
     "output_type": "stream",
     "name": "stdout",
     "text": [
      "[[1 2 3]\n [4 5 6]\n [7 8 9]]\n"
     ]
    }
   ],
   "source": [
    "A=np.arange(1,10).reshape(3,3)\n",
    "print(A)"
   ]
  },
  {
   "cell_type": "code",
   "execution_count": 10,
   "metadata": {},
   "outputs": [],
   "source": [
    "A=np.eye(3)"
   ]
  },
  {
   "cell_type": "code",
   "execution_count": 11,
   "metadata": {},
   "outputs": [
    {
     "output_type": "stream",
     "name": "stdout",
     "text": [
      "[[1. 0. 0.]\n [0. 1. 0.]\n [0. 0. 1.]]\n"
     ]
    }
   ],
   "source": [
    "print(A)"
   ]
  },
  {
   "cell_type": "code",
   "execution_count": 12,
   "metadata": {},
   "outputs": [
    {
     "output_type": "stream",
     "name": "stdout",
     "text": [
      "[[[0.27225699 0.5147585  0.33663768]\n  [0.93659548 0.37871008 0.13165678]\n  [0.50362412 0.97765724 0.60722048]]\n\n [[0.67597171 0.0062179  0.10173504]\n  [0.19088648 0.06988246 0.89491505]\n  [0.00919303 0.27639688 0.98266402]]\n\n [[0.73452768 0.79014793 0.52349169]\n  [0.21013178 0.80753982 0.73436956]\n  [0.64082995 0.19579465 0.23559428]]]\n"
     ]
    }
   ],
   "source": [
    "A=np.random.random((3,3,3))\n",
    "print(A)"
   ]
  },
  {
   "cell_type": "code",
   "execution_count": 13,
   "metadata": {},
   "outputs": [
    {
     "output_type": "stream",
     "name": "stdout",
     "text": [
      "[[0.02534346 0.53158517 0.02460069]\n [0.13111842 0.66507364 0.77064606]\n [0.69838452 0.22340754 0.38633573]]\n0.7706460634468951 0.024600689759561645\n"
     ]
    }
   ],
   "source": [
    "A=np.random.random((3,3))\n",
    "Amax,Amin=A.max(),A.min()\n",
    "print(A)\n",
    "print(Amax,Amin)"
   ]
  },
  {
   "cell_type": "code",
   "execution_count": 14,
   "metadata": {},
   "outputs": [
    {
     "output_type": "stream",
     "name": "stdout",
     "text": [
      "[0.38269179 0.36428652 0.78257057 0.30410243 0.34307707 0.20212572\n",
      " 0.14667279 0.94336818 0.52950279 0.81662701 0.02386905 0.61455228\n",
      " 0.01266387 0.39304796 0.57103171 0.88149645 0.92981576 0.59521429\n",
      " 0.3206673  0.1577551  0.10989968 0.68769342 0.80627672 0.86385936\n",
      " 0.61624325 0.13269853 0.8882617  0.57499138 0.89308543 0.11058913]\n",
      "0.49995790861265005\n"
     ]
    }
   ],
   "source": [
    "A=np.random.random(30)\n",
    "Amean=A.mean()\n",
    "print(A)\n",
    "print(Amean)"
   ]
  },
  {
   "cell_type": "code",
   "execution_count": 15,
   "metadata": {},
   "outputs": [
    {
     "output_type": "stream",
     "name": "stdout",
     "text": [
      "[[1. 1. 1. 1. 1.]\n [1. 0. 0. 0. 1.]\n [1. 0. 0. 0. 1.]\n [1. 0. 0. 0. 1.]\n [1. 1. 1. 1. 1.]]\n"
     ]
    }
   ],
   "source": [
    "A=np.ones((5,5))\n",
    "A[1:-1,1:-1]=0\n",
    "print(A)"
   ]
  },
  {
   "cell_type": "code",
   "execution_count": 16,
   "metadata": {},
   "outputs": [
    {
     "output_type": "stream",
     "name": "stdout",
     "text": [
      "nan\n"
     ]
    }
   ],
   "source": [
    "print(0*np.nan)"
   ]
  },
  {
   "cell_type": "code",
   "execution_count": 17,
   "metadata": {},
   "outputs": [
    {
     "output_type": "stream",
     "name": "stdout",
     "text": [
      "False\n"
     ]
    }
   ],
   "source": [
    "print(np.nan==np.nan)"
   ]
  },
  {
   "cell_type": "code",
   "execution_count": 18,
   "metadata": {},
   "outputs": [
    {
     "output_type": "stream",
     "name": "stdout",
     "text": [
      "False\n"
     ]
    }
   ],
   "source": [
    "print(np.inf>np.nan)"
   ]
  },
  {
   "cell_type": "code",
   "execution_count": 19,
   "metadata": {},
   "outputs": [
    {
     "output_type": "stream",
     "name": "stdout",
     "text": [
      "nan\n"
     ]
    }
   ],
   "source": [
    "print(np.nan-np.nan)"
   ]
  },
  {
   "cell_type": "code",
   "execution_count": 20,
   "metadata": {},
   "outputs": [
    {
     "output_type": "stream",
     "name": "stdout",
     "text": [
      "False\n"
     ]
    }
   ],
   "source": [
    "print(0.3==3*0.1)"
   ]
  },
  {
   "cell_type": "code",
   "execution_count": 27,
   "metadata": {},
   "outputs": [
    {
     "output_type": "stream",
     "name": "stdout",
     "text": [
      "[[0 0 0 0 0]\n [1 0 0 0 0]\n [0 2 0 0 0]\n [0 0 3 0 0]\n [0 0 0 4 0]]\n"
     ]
    }
   ],
   "source": [
    "Z=np.diag(1+np.arange(4),k=-1)\n",
    "print(Z)"
   ]
  },
  {
   "cell_type": "code",
   "execution_count": 32,
   "metadata": {},
   "outputs": [
    {
     "output_type": "stream",
     "name": "stdout",
     "text": [
      "[[1 0 1 0 1 0 1 0]\n [0 1 0 1 0 1 0 1]\n [1 0 1 0 1 0 1 0]\n [0 1 0 1 0 1 0 1]\n [1 0 1 0 1 0 1 0]\n [0 1 0 1 0 1 0 1]\n [1 0 1 0 1 0 1 0]\n [0 1 0 1 0 1 0 1]]\n"
     ]
    }
   ],
   "source": [
    "Z=np.ones((8,8),dtype=int)\n",
    "Z[1::2,::2]=0\n",
    "Z[::2,1::2]=0\n",
    "print(Z)"
   ]
  },
  {
   "cell_type": "code",
   "execution_count": 35,
   "metadata": {},
   "outputs": [
    {
     "output_type": "stream",
     "name": "stdout",
     "text": [
      "(1, 5, 4)\n"
     ]
    }
   ],
   "source": [
    "Z=np.random.random((6,7,8))\n",
    "print(np.unravel_index(100,(6,7,8)))"
   ]
  },
  {
   "cell_type": "code",
   "execution_count": 43,
   "metadata": {},
   "outputs": [
    {
     "output_type": "stream",
     "name": "stdout",
     "text": [
      "[[0 1 0 1 0 1 0 1]\n [1 0 1 0 1 0 1 0]\n [0 1 0 1 0 1 0 1]\n [1 0 1 0 1 0 1 0]\n [0 1 0 1 0 1 0 1]\n [1 0 1 0 1 0 1 0]\n [0 1 0 1 0 1 0 1]\n [1 0 1 0 1 0 1 0]]\n"
     ]
    }
   ],
   "source": [
    "A=np.array([[0,1],[1,0]])\n",
    "Z=np.tile(A,(4,4))\n",
    "print(Z)"
   ]
  },
  {
   "cell_type": "code",
   "execution_count": 46,
   "metadata": {},
   "outputs": [
    {
     "output_type": "stream",
     "name": "stdout",
     "text": [
      "[[0.08541739 0.30682008 0.64274018 0.73272152 0.82305379]\n [0.3794361  0.90642604 0.37737982 0.75296306 0.8980738 ]\n [0.55997613 0.11543975 0.82693429 0.22461316 0.52435214]\n [0.18732898 0.39430729 0.11367519 0.00551735 0.21078161]\n [0.56873039 0.0754322  0.73296221 0.94160906 0.0831533 ]]\n[[0.08535492 0.32187309 0.68072693 0.77685141 0.8733508 ]\n [0.39944671 0.96241499 0.39725004 0.79847488 0.95349253]\n [0.59231246 0.11742695 0.87749622 0.23405378 0.55425636]\n [0.19422416 0.41533318 0.11554192 0.         0.21927793]\n [0.60166438 0.07468803 0.77710854 1.         0.08293627]]\n"
     ]
    }
   ],
   "source": [
    "A=np.random.random((5,5))\n",
    "print(A)\n",
    "Amax,Amin=A.max(),A.min()\n",
    "A=(A-Amin)/(Amax-Amin)\n",
    "print(A)"
   ]
  },
  {
   "cell_type": "code",
   "execution_count": 48,
   "metadata": {},
   "outputs": [],
   "source": [
    "color=np.dtype([(\"r\",np.ubyte,1),\n",
    "                (\"g\",np.ubyte,1),\n",
    "                (\"b\",np.ubyte,1),\n",
    "                (\"a\",np.ubyte,1)])"
   ]
  },
  {
   "cell_type": "code",
   "execution_count": 54,
   "metadata": {},
   "outputs": [
    {
     "output_type": "execute_result",
     "data": {
      "text/plain": [
       "dtype([('r', 'u1'), ('g', 'u1'), ('b', 'u1'), ('a', 'u1')])"
      ]
     },
     "metadata": {},
     "execution_count": 54
    }
   ],
   "source": [
    "color"
   ]
  },
  {
   "cell_type": "code",
   "execution_count": 57,
   "metadata": {},
   "outputs": [
    {
     "output_type": "stream",
     "name": "stdout",
     "text": [
      "[[1.39580015 0.98809418]\n [1.39580015 0.98809418]\n [1.39580015 0.98809418]\n [1.39580015 0.98809418]\n [1.39580015 0.98809418]]\n"
     ]
    }
   ],
   "source": [
    "A=np.ones((5,3))\n",
    "B=np.random.random((3,2))\n",
    "C=np.dot(A,B)\n",
    "print(C)"
   ]
  },
  {
   "cell_type": "code",
   "execution_count": 62,
   "metadata": {},
   "outputs": [
    {
     "output_type": "stream",
     "name": "stdout",
     "text": [
      "[ 0  1  2  3 -4 -5 -6 -7 -8  9 10]\n"
     ]
    }
   ],
   "source": [
    "A=np.arange(11)\n",
    "A[(3<A) & (A<=8)]*=-1\n",
    "print(A)"
   ]
  },
  {
   "cell_type": "code",
   "execution_count": 63,
   "metadata": {},
   "outputs": [
    {
     "output_type": "stream",
     "name": "stdout",
     "text": [
      "9\n10\n"
     ]
    }
   ],
   "source": [
    "print(sum(range(5),-1))\n",
    "from numpy import *\n",
    "print(sum(np.range(5),-1))"
   ]
  },
  {
   "cell_type": "code",
   "execution_count": 64,
   "metadata": {},
   "outputs": [
    {
     "output_type": "stream",
     "name": "stdout",
     "text": [
      "range(0, 5) -1\n"
     ]
    }
   ],
   "source": [
    "print(range(5),-1)"
   ]
  },
  {
   "cell_type": "code",
   "execution_count": 65,
   "metadata": {},
   "outputs": [
    {
     "output_type": "error",
     "ename": "AttributeError",
     "evalue": "module 'numpy' has no attribute 'range'",
     "traceback": [
      "\u001b[1;31m---------------------------------------------------------------------------\u001b[0m",
      "\u001b[1;31mAttributeError\u001b[0m                            Traceback (most recent call last)",
      "\u001b[1;32m<ipython-input-65-3694acd5bc80>\u001b[0m in \u001b[0;36m<module>\u001b[1;34m\u001b[0m\n\u001b[1;32m----> 1\u001b[1;33m \u001b[0mprint\u001b[0m\u001b[1;33m(\u001b[0m\u001b[0msum\u001b[0m\u001b[1;33m(\u001b[0m\u001b[0mnp\u001b[0m\u001b[1;33m.\u001b[0m\u001b[0mrange\u001b[0m\u001b[1;33m(\u001b[0m\u001b[1;36m5\u001b[0m\u001b[1;33m)\u001b[0m\u001b[1;33m,\u001b[0m\u001b[1;33m-\u001b[0m\u001b[1;36m1\u001b[0m\u001b[1;33m)\u001b[0m\u001b[1;33m)\u001b[0m\u001b[1;33m\u001b[0m\u001b[1;33m\u001b[0m\u001b[0m\n\u001b[0m",
      "\u001b[1;32mC:\\ProgramData\\Anaconda3\\lib\\site-packages\\numpy\\__init__.py\u001b[0m in \u001b[0;36m__getattr__\u001b[1;34m(attr)\u001b[0m\n\u001b[0;32m    218\u001b[0m             \u001b[1;32melse\u001b[0m\u001b[1;33m:\u001b[0m\u001b[1;33m\u001b[0m\u001b[1;33m\u001b[0m\u001b[0m\n\u001b[0;32m    219\u001b[0m                 raise AttributeError(\"module {!r} has no attribute \"\n\u001b[1;32m--> 220\u001b[1;33m                                      \"{!r}\".format(__name__, attr))\n\u001b[0m\u001b[0;32m    221\u001b[0m \u001b[1;33m\u001b[0m\u001b[0m\n\u001b[0;32m    222\u001b[0m         \u001b[1;32mdef\u001b[0m \u001b[0m__dir__\u001b[0m\u001b[1;33m(\u001b[0m\u001b[1;33m)\u001b[0m\u001b[1;33m:\u001b[0m\u001b[1;33m\u001b[0m\u001b[1;33m\u001b[0m\u001b[0m\n",
      "\u001b[1;31mAttributeError\u001b[0m: module 'numpy' has no attribute 'range'"
     ]
    }
   ],
   "source": [
    "print(sum(np.range(5),-1))"
   ]
  },
  {
   "cell_type": "code",
   "execution_count": 66,
   "metadata": {},
   "outputs": [
    {
     "output_type": "stream",
     "name": "stdout",
     "text": [
      "9\n"
     ]
    }
   ],
   "source": [
    "print(sum(range(5),initial=-1))"
   ]
  },
  {
   "cell_type": "code",
   "execution_count": 67,
   "metadata": {},
   "outputs": [
    {
     "output_type": "stream",
     "name": "stdout",
     "text": [
      "[1 1 4]\n"
     ]
    }
   ],
   "source": [
    "Z=np.arange(3)\n",
    "print(Z**Z)"
   ]
  },
  {
   "cell_type": "code",
   "execution_count": 68,
   "metadata": {},
   "outputs": [
    {
     "output_type": "stream",
     "name": "stdout",
     "text": [
      "[0 1 2]\n"
     ]
    }
   ],
   "source": [
    "print(2<<Z>>2)"
   ]
  },
  {
   "cell_type": "code",
   "execution_count": 69,
   "metadata": {},
   "outputs": [
    {
     "output_type": "stream",
     "name": "stdout",
     "text": [
      "[False False False]\n"
     ]
    }
   ],
   "source": [
    "print(Z<-Z)"
   ]
  },
  {
   "cell_type": "code",
   "execution_count": 70,
   "metadata": {},
   "outputs": [
    {
     "output_type": "stream",
     "name": "stdout",
     "text": [
      "[0.+0.j 0.+1.j 0.+2.j]\n"
     ]
    }
   ],
   "source": [
    "print(1j*Z)"
   ]
  },
  {
   "cell_type": "code",
   "execution_count": 73,
   "metadata": {},
   "outputs": [
    {
     "output_type": "stream",
     "name": "stdout",
     "text": [
      "[0. 1. 2.]\n"
     ]
    }
   ],
   "source": [
    "print(Z/1/1)"
   ]
  },
  {
   "cell_type": "code",
   "execution_count": 75,
   "metadata": {},
   "outputs": [
    {
     "output_type": "error",
     "ename": "ValueError",
     "evalue": "The truth value of an array with more than one element is ambiguous. Use a.any() or a.all()",
     "traceback": [
      "\u001b[1;31m---------------------------------------------------------------------------\u001b[0m",
      "\u001b[1;31mValueError\u001b[0m                                Traceback (most recent call last)",
      "\u001b[1;32m<ipython-input-75-20f36d1d6fd9>\u001b[0m in \u001b[0;36m<module>\u001b[1;34m\u001b[0m\n\u001b[1;32m----> 1\u001b[1;33m \u001b[0mprint\u001b[0m\u001b[1;33m(\u001b[0m\u001b[0mZ\u001b[0m\u001b[1;33m<\u001b[0m\u001b[0mZ\u001b[0m\u001b[1;33m>\u001b[0m\u001b[0mZ\u001b[0m\u001b[1;33m)\u001b[0m\u001b[1;33m\u001b[0m\u001b[1;33m\u001b[0m\u001b[0m\n\u001b[0m",
      "\u001b[1;31mValueError\u001b[0m: The truth value of an array with more than one element is ambiguous. Use a.any() or a.all()"
     ]
    }
   ],
   "source": [
    "print(Z<Z>Z)"
   ]
  },
  {
   "cell_type": "code",
   "execution_count": 76,
   "metadata": {},
   "outputs": [
    {
     "output_type": "execute_result",
     "data": {
      "text/plain": [
       "0"
      ]
     },
     "metadata": {},
     "execution_count": 76
    }
   ],
   "source": [
    "np.array(0)//np.array(0)"
   ]
  },
  {
   "cell_type": "code",
   "execution_count": 77,
   "metadata": {},
   "outputs": [
    {
     "output_type": "execute_result",
     "data": {
      "text/plain": [
       "nan"
      ]
     },
     "metadata": {},
     "execution_count": 77
    }
   ],
   "source": [
    "np.array(0)//np.array(0.)"
   ]
  },
  {
   "cell_type": "code",
   "execution_count": 78,
   "metadata": {},
   "outputs": [
    {
     "output_type": "execute_result",
     "data": {
      "text/plain": [
       "nan"
      ]
     },
     "metadata": {},
     "execution_count": 78
    }
   ],
   "source": [
    "np.array(0)/np.array(0)"
   ]
  },
  {
   "cell_type": "code",
   "execution_count": 79,
   "metadata": {},
   "outputs": [
    {
     "output_type": "execute_result",
     "data": {
      "text/plain": [
       "nan"
      ]
     },
     "metadata": {},
     "execution_count": 79
    }
   ],
   "source": [
    "np.array(0)/np.array(0.)"
   ]
  },
  {
   "cell_type": "code",
   "execution_count": 80,
   "metadata": {},
   "outputs": [
    {
     "output_type": "stream",
     "name": "stdout",
     "text": [
      "[-8.0550897   5.18993897  4.70461449 -8.48536794 -3.75776187 -1.63303682\n -1.45219201  1.22500714 -9.73635192 -9.84180447]\n"
     ]
    }
   ],
   "source": [
    "Z=np.random.uniform(-10,+10,10)\n",
    "print(Z)"
   ]
  },
  {
   "cell_type": "code",
   "execution_count": 84,
   "metadata": {},
   "outputs": [
    {
     "output_type": "stream",
     "name": "stdout",
     "text": [
      "[ -8.   5.   5.  -8.  -4.  -2.  -1.   1. -10. -10.]\n"
     ]
    }
   ],
   "source": [
    "C=np.trunc(Z+np.copysign(0.5,Z))\n",
    "print(C)"
   ]
  },
  {
   "cell_type": "code",
   "execution_count": 85,
   "metadata": {},
   "outputs": [
    {
     "output_type": "stream",
     "name": "stdout",
     "text": [
      "[5. 8. 9. 7. 0. 6. 8. 3. 4. 5.]\n[5. 8. 9. 7. 0. 6. 8. 3. 4. 5.]\n[5. 8. 9. 7. 0. 6. 8. 3. 4. 5.]\n[5 8 9 7 0 6 8 3 4 5]\n[5. 8. 9. 7. 0. 6. 8. 3. 4. 5.]\n"
     ]
    }
   ],
   "source": [
    "Z=np.random.uniform(0,10,10)\n",
    "print(Z-Z%1)\n",
    "print(np.floor(Z))\n",
    "print(np.ceil(Z)-1)\n",
    "print(Z.astype(int))\n",
    "print(np.trunc(Z))"
   ]
  },
  {
   "cell_type": "code",
   "execution_count": 86,
   "metadata": {},
   "outputs": [
    {
     "output_type": "stream",
     "name": "stdout",
     "text": [
      "[[0. 1. 2. 3. 4.]\n [0. 1. 2. 3. 4.]\n [0. 1. 2. 3. 4.]\n [0. 1. 2. 3. 4.]\n [0. 1. 2. 3. 4.]]\n"
     ]
    }
   ],
   "source": [
    "Z=np.zeros((5,5))\n",
    "Z=Z+np.arange(5)\n",
    "print(Z)"
   ]
  },
  {
   "cell_type": "code",
   "execution_count": 95,
   "metadata": {},
   "outputs": [
    {
     "output_type": "stream",
     "name": "stdout",
     "text": [
      "[0. 1. 2. 3. 4. 5. 6. 7. 8. 9.]\n"
     ]
    }
   ],
   "source": [
    "def generate():\n",
    "    for i in range(10):\n",
    "        yield i\n",
    "Z=np.fromiter(generate(),dtype=float,count=-1)\n",
    "print(Z)"
   ]
  },
  {
   "cell_type": "code",
   "execution_count": 98,
   "metadata": {},
   "outputs": [
    {
     "output_type": "stream",
     "name": "stdout",
     "text": [
      "[0.09090909 0.18181818 0.27272727 0.36363636 0.45454545 0.54545455\n 0.63636364 0.72727273 0.81818182 0.90909091]\n"
     ]
    }
   ],
   "source": [
    "Z=np.linspace(0,1,12,endpoint=True)[1:-1]\n",
    "print(Z)"
   ]
  },
  {
   "cell_type": "code",
   "execution_count": 99,
   "metadata": {},
   "outputs": [
    {
     "output_type": "stream",
     "name": "stdout",
     "text": [
      "[0.41931759 0.42169024 0.57170389 0.59947691 0.73367645 0.77427099\n 0.78907432 0.86208032 0.87043996 0.87696384]\n"
     ]
    }
   ],
   "source": [
    "Z=random.random(10)\n",
    "Z.sort()\n",
    "print(Z)"
   ]
  },
  {
   "cell_type": "code",
   "execution_count": 100,
   "metadata": {},
   "outputs": [
    {
     "output_type": "stream",
     "name": "stdout",
     "text": [
      "45\n0.0013790130615234375\n"
     ]
    }
   ],
   "source": [
    "import time\n",
    "start=time.time()\n",
    "Z=np.arange(10)\n",
    "print(Z.sum())\n",
    "end=time.time()\n",
    "print(end-start)\n"
   ]
  },
  {
   "cell_type": "code",
   "execution_count": 101,
   "metadata": {},
   "outputs": [
    {
     "output_type": "stream",
     "name": "stdout",
     "text": [
      "45\n0.000400543212890625\n"
     ]
    }
   ],
   "source": [
    "import time\n",
    "start=time.time()\n",
    "Z=np.arange(10)\n",
    "print(np.add.reduce(Z))\n",
    "end=time.time()\n",
    "print(end-start)"
   ]
  },
  {
   "cell_type": "code",
   "execution_count": 103,
   "metadata": {},
   "outputs": [
    {
     "output_type": "stream",
     "name": "stdout",
     "text": [
      "False\nFalse\n"
     ]
    }
   ],
   "source": [
    "A=np.random.randint(10)\n",
    "B=np.random.randint(10)\n",
    "equal=np.allclose(A,B)\n",
    "print(equal)\n",
    "print(A==B)"
   ]
  },
  {
   "cell_type": "code",
   "execution_count": 104,
   "metadata": {},
   "outputs": [
    {
     "output_type": "error",
     "ename": "ValueError",
     "evalue": "assignment destination is read-only",
     "traceback": [
      "\u001b[1;31m---------------------------------------------------------------------------\u001b[0m",
      "\u001b[1;31mValueError\u001b[0m                                Traceback (most recent call last)",
      "\u001b[1;32m<ipython-input-104-a7b867a2ab10>\u001b[0m in \u001b[0;36m<module>\u001b[1;34m\u001b[0m\n\u001b[0;32m      1\u001b[0m \u001b[0mZ\u001b[0m\u001b[1;33m=\u001b[0m\u001b[0mnp\u001b[0m\u001b[1;33m.\u001b[0m\u001b[0mzeros\u001b[0m\u001b[1;33m(\u001b[0m\u001b[1;36m10\u001b[0m\u001b[1;33m)\u001b[0m\u001b[1;33m\u001b[0m\u001b[1;33m\u001b[0m\u001b[0m\n\u001b[0;32m      2\u001b[0m \u001b[0mZ\u001b[0m\u001b[1;33m.\u001b[0m\u001b[0mflags\u001b[0m\u001b[1;33m.\u001b[0m\u001b[0mwriteable\u001b[0m\u001b[1;33m=\u001b[0m\u001b[1;32mFalse\u001b[0m\u001b[1;33m\u001b[0m\u001b[1;33m\u001b[0m\u001b[0m\n\u001b[1;32m----> 3\u001b[1;33m \u001b[0mZ\u001b[0m\u001b[1;33m[\u001b[0m\u001b[1;36m0\u001b[0m\u001b[1;33m]\u001b[0m\u001b[1;33m=\u001b[0m\u001b[1;36m1\u001b[0m\u001b[1;33m\u001b[0m\u001b[1;33m\u001b[0m\u001b[0m\n\u001b[0m",
      "\u001b[1;31mValueError\u001b[0m: assignment destination is read-only"
     ]
    }
   ],
   "source": [
    "Z=np.zeros(10)\n",
    "Z.flags.writeable=False\n",
    "Z[0]=1"
   ]
  },
  {
   "cell_type": "code",
   "execution_count": 106,
   "metadata": {},
   "outputs": [
    {
     "output_type": "stream",
     "name": "stdout",
     "text": [
      "[0.86812119 1.02073304 0.6367919  0.89167057 0.54965717 0.91885178\n 0.97358144 1.31663855 0.13628689 0.36004536]\n[0.55750734 0.31111364 0.1726431  0.68198041 0.43913824 0.16922338\n 0.66975142 0.72909304 0.12775145 0.19156163]\n"
     ]
    }
   ],
   "source": [
    "A=np.random.random((10,2))\n",
    "X,Y=A[:,0],A[:,1]\n",
    "R=np.sqrt(X**2+Y**2)\n",
    "T=np.arctan(Y,X)\n",
    "print(R)\n",
    "print(T)"
   ]
  },
  {
   "cell_type": "code",
   "execution_count": 107,
   "metadata": {},
   "outputs": [
    {
     "output_type": "stream",
     "name": "stdout",
     "text": [
      "[0.70760323 0.72488664 0.70773036 0.84633407 0.69148545 0.09619548\n 0.81475277 0.90470843 0.15128344 0.08338223]\n[0.70760323 0.72488664 0.70773036 0.84633407 0.69148545 0.09619548\n 0.81475277 0.         0.15128344 0.08338223]\n"
     ]
    }
   ],
   "source": [
    "A=np.random.random(10)\n",
    "print(A)\n",
    "A[np.argmax(A)]=0\n",
    "print(A)"
   ]
  },
  {
   "cell_type": "code",
   "execution_count": 108,
   "metadata": {},
   "outputs": [
    {
     "output_type": "stream",
     "name": "stdout",
     "text": [
      "[[(0.        , 0.        ) (0.11111111, 0.        )\n  (0.22222222, 0.        ) (0.33333333, 0.        )\n  (0.44444444, 0.        ) (0.55555556, 0.        )\n  (0.66666667, 0.        ) (0.77777778, 0.        )\n  (0.88888889, 0.        ) (1.        , 0.        )]\n [(0.        , 0.11111111) (0.11111111, 0.11111111)\n  (0.22222222, 0.11111111) (0.33333333, 0.11111111)\n  (0.44444444, 0.11111111) (0.55555556, 0.11111111)\n  (0.66666667, 0.11111111) (0.77777778, 0.11111111)\n  (0.88888889, 0.11111111) (1.        , 0.11111111)]\n [(0.        , 0.22222222) (0.11111111, 0.22222222)\n  (0.22222222, 0.22222222) (0.33333333, 0.22222222)\n  (0.44444444, 0.22222222) (0.55555556, 0.22222222)\n  (0.66666667, 0.22222222) (0.77777778, 0.22222222)\n  (0.88888889, 0.22222222) (1.        , 0.22222222)]\n [(0.        , 0.33333333) (0.11111111, 0.33333333)\n  (0.22222222, 0.33333333) (0.33333333, 0.33333333)\n  (0.44444444, 0.33333333) (0.55555556, 0.33333333)\n  (0.66666667, 0.33333333) (0.77777778, 0.33333333)\n  (0.88888889, 0.33333333) (1.        , 0.33333333)]\n [(0.        , 0.44444444) (0.11111111, 0.44444444)\n  (0.22222222, 0.44444444) (0.33333333, 0.44444444)\n  (0.44444444, 0.44444444) (0.55555556, 0.44444444)\n  (0.66666667, 0.44444444) (0.77777778, 0.44444444)\n  (0.88888889, 0.44444444) (1.        , 0.44444444)]\n [(0.        , 0.55555556) (0.11111111, 0.55555556)\n  (0.22222222, 0.55555556) (0.33333333, 0.55555556)\n  (0.44444444, 0.55555556) (0.55555556, 0.55555556)\n  (0.66666667, 0.55555556) (0.77777778, 0.55555556)\n  (0.88888889, 0.55555556) (1.        , 0.55555556)]\n [(0.        , 0.66666667) (0.11111111, 0.66666667)\n  (0.22222222, 0.66666667) (0.33333333, 0.66666667)\n  (0.44444444, 0.66666667) (0.55555556, 0.66666667)\n  (0.66666667, 0.66666667) (0.77777778, 0.66666667)\n  (0.88888889, 0.66666667) (1.        , 0.66666667)]\n [(0.        , 0.77777778) (0.11111111, 0.77777778)\n  (0.22222222, 0.77777778) (0.33333333, 0.77777778)\n  (0.44444444, 0.77777778) (0.55555556, 0.77777778)\n  (0.66666667, 0.77777778) (0.77777778, 0.77777778)\n  (0.88888889, 0.77777778) (1.        , 0.77777778)]\n [(0.        , 0.88888889) (0.11111111, 0.88888889)\n  (0.22222222, 0.88888889) (0.33333333, 0.88888889)\n  (0.44444444, 0.88888889) (0.55555556, 0.88888889)\n  (0.66666667, 0.88888889) (0.77777778, 0.88888889)\n  (0.88888889, 0.88888889) (1.        , 0.88888889)]\n [(0.        , 1.        ) (0.11111111, 1.        )\n  (0.22222222, 1.        ) (0.33333333, 1.        )\n  (0.44444444, 1.        ) (0.55555556, 1.        )\n  (0.66666667, 1.        ) (0.77777778, 1.        )\n  (0.88888889, 1.        ) (1.        , 1.        )]]\n"
     ]
    }
   ],
   "source": [
    "Z = np.zeros((10,10), [('x',float),('y',float)])\n",
    "Z['x'], Z['y'] = np.meshgrid(np.linspace(0,1,10),\n",
    "np.linspace(0,1,10))\n",
    "print(Z)"
   ]
  },
  {
   "cell_type": "code",
   "execution_count": 109,
   "metadata": {},
   "outputs": [
    {
     "output_type": "stream",
     "name": "stdout",
     "text": [
      "3638.1636371179666\n"
     ]
    }
   ],
   "source": [
    "X = np.arange(8)\n",
    "Y = X + 0.5\n",
    "C = 1.0 / np.subtract.outer(X, Y)\n",
    "print(np.linalg.det(C))"
   ]
  },
  {
   "cell_type": "code",
   "execution_count": 111,
   "metadata": {},
   "outputs": [
    {
     "output_type": "stream",
     "name": "stdout",
     "text": [
      "-128\n127\n-2147483648\n2147483647\n-9223372036854775808\n9223372036854775807\n-3.4028235e+38\n3.4028235e+38\n1.1920929e-07\n-1.7976931348623157e+308\n1.7976931348623157e+308\n2.220446049250313e-16\n"
     ]
    }
   ],
   "source": [
    "for dtype in [np.int8, np.int32, np.int64]:\n",
    "    print(np.iinfo(dtype).min)\n",
    "    print(np.iinfo(dtype).max)\n",
    "for dtype in [np.float32, np.float64]:\n",
    "    print(np.finfo(dtype).min)\n",
    "    print(np.finfo(dtype).max)\n",
    "    print(np.finfo(dtype).eps)"
   ]
  },
  {
   "cell_type": "code",
   "execution_count": null,
   "metadata": {},
   "outputs": [],
   "source": []
  }
 ]
}